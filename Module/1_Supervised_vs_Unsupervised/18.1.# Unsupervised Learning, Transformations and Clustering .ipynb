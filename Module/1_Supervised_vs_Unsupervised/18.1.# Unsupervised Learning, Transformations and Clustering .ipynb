{
 "cells": [
  {
   "cell_type": "markdown",
   "id": "52513306",
   "metadata": {},
   "source": [
    "## 18.1.2\n",
    "### Unsupervised Learning\n",
    "You and Martha are convinced: Unsupervised learning is the best way forward for your dataset because you are looking for any groupings, trends, or other information that could help you pitch cryptocurrencies to her firm.\n",
    "\n",
    "Now the fun part of the project can start: learning how to use unsupervised algorithms. You know it might take a few tries to get it right, but if you can convince *Accountability Accounting* to invest in this cutting-edge financial system, you will truly be making a difference.\n",
    "\n",
    "#### \n",
    "\n",
    "In supervised learning, the input data already has a paired outcome, which is plugged in to train the model to predict outcomes in new datasets. For example, we want to build a model that, when given unfamiliar data, can accurately predict the outcomes.\n",
    "\n",
    "In unsupervised learning, there are two key differences from the above approach:\n",
    "\n",
    "   - There are no paired inputs and outcomes.\n",
    "   - The model uses a whole dataset as input.\n",
    "\n",
    "Unsupervised learning is used in one of the following two ways:\n",
    "\n",
    "   - Transform the data to create an intuitive representation for analysis or to use in another machine learning model; or\n",
    "   - Cluster or determine patterns in a grouping of data, rather than to predict a classification.\n",
    "\n",
    "For example, imagine a store owner is planning to stock up on back-to-school supplies. The owner's challenges are selecting from a wide range of school supplies, devoting considerable space to the inventory, and maintaining a fast inventory turnover rate, from stocking to selling.\n",
    "\n",
    "The owner wants to predict the best time to start selling school supplies so staff can make room for the next big items to sell. The owner decides to focus on the previous year's data, which includes the number of items sold, when they were sold, and the area schools' start dates for 10, 20, and 30 days prior to the items' sell dates.\n",
    "\n",
    "Now, imagine the owner notices that when customers come in to buy school supplies, they also purchase non-school items, giving other categories a bump in sales. There are a wide variety of products to offer different consumers, so the owner wants to know which consumers might buy more products and what items they might want to buy. We don't really know how to group the data, but we know that grouping the data will be instructive. You'll need to factor in many data points, such as age, race, gender, location, and much more."
   ]
  },
  {
   "cell_type": "markdown",
   "id": "29bcf453",
   "metadata": {},
   "source": [
    "## 18.1.3\n",
    "### Types of Unsupervised Learning: Transformations and Clustering\n",
    "\n",
    "**Unsupervised learning** appears to be a great choice! You and Martha decided to follow your intuition and research which type of unsupervised learning is best: transformations or clustering.\n",
    "\n",
    "There are two types of unsupervised learning: transformations and clustering algorithms.\n",
    "\n",
    "#### Transformations\n",
    "\n",
    "We use **transformations** when we need to take raw data and make it easier to understand. Transformations also can help prepare data so that it can be used for other machine learning algorithms.\n",
    "\n",
    "For example, if you had cable TV viewer data, it might contain location, viewing duration, and viewer churn and retention during commercials and after programs ended. Transformations can reduce the dimensional representation, which simply means we'll be decreasing the number of features used for the model or analysis. After doing so, the data can either be processed for use in other algorithms or narrowed down so it can be viewed in 2D.\n",
    "\n",
    "#### Clustering Algorithms\n",
    "\n",
    "We use **clustering algorithms** to group similar objects into clusters. For example, if a cable service wants to group those with similar viewing habits, we would use a clustering algorithm.\n",
    "\n",
    "#### Challenges of Unsupervised Learning\n",
    "\n",
    "**important:**\n",
    "Unsupervised learning isn't the solution for every data analytic challenge. Just because supervised learning might not work for one situation doesn't mean unsupervised learning will work instead. Understanding the data and what can be done with it is an important first step before choosing an algorithm.\n",
    "\n",
    "Recall that unsupervised learning does not take in any pairing of input and outcomes from the data—it only looks at the data as a whole. This can cause some challenges when running the algorithm. Since we won't know the outcome it's predicting, we might not know that the result is correct.\n",
    "\n",
    "This can lead to issues where we're trying to decide if the model has provided any helpful information that we can use to make decisions in the real world. For example, our store owner might run a model that ends up grouping the type of people by how much they're buying. This could be useful in some contexts—for example, knowing who the top spenders are—but it might not help the store owner better organize the store for maximum purchases per person, or understand the differences in product preferences between top purchasers.\n",
    "\n",
    "The only way to determine what an unsupervised algorithm did with the data is to go through it manually or create visualizations. Since there will be a manual aspect, unsupervised learning is great for when you want to *explore the data*. Sometimes you'll use the information provided to you by the unsupervised algorithm to transition to a more targeted, supervised model.\n",
    "\n",
    "As with supervised learning, data should be preprocessed into a correct format with only numerical values, null value determination, and so forth. The only difference is unsupervised learning doesn't have a target variable—it only has input features that will be used to find patterns in the data. It's important to carefully select features that could help to find those patterns or create groups.\n",
    "\n",
    "The next section will cover data preprocessing and data wrangling, and provide a refresher on Pandas and data cleaning. First, you'll need to install the necessary libraries for practice."
   ]
  },
  {
   "cell_type": "markdown",
   "id": "e84fd48d",
   "metadata": {},
   "source": [
    "## 18.1.4\n",
    "#### Install Your Tools\n",
    "Before getting started, make sure that you're set with any libraries you'll be using while exploring unsupervised learning.\n",
    "\n",
    "We'll need to install some additional libraries into our mlenv environment we created in the previous module. Before preceeding activate your mlenv environment on Mac or the \"Anaconda Prompt (mlenv)\" on Windows.\n",
    "\n",
    "#### Scikit-learn\n",
    "\n",
    "We'll be using the scikit-learn library in this module. And, since we installed it in the previous module we are good to go.\n",
    "\n",
    "#### Plotly\n",
    "\n",
    "To install the Python Plotly library, run the following command in your mlenv environment or Anaconda Prompt (mlenv).\n",
    "\n",
    "conda install -c plotly plotly\n",
    "\n",
    "#### hvPlot\n",
    "\n",
    "To install the hvPlot visualization library, run the following command in your mlenv environment or Anaconda Prompt (mlenv):\n",
    "\n",
    "conda install -c pyviz hvplot\n",
    "\n",
    "Once you have successfully installed Plotly and hvplot you're all set.\n",
    "note\n",
    "\n",
    "For more information about the Plotly and hvplot see the following documentation:\n",
    "\n",
    "    Plotly (Links to an external site.) is a graphing library that makes interactive, publication-quality charts.\n",
    "    hvplot (Links to an external site.) is a high-level plotting library that uses HolovViews and Bokeh."
   ]
  },
  {
   "cell_type": "markdown",
   "id": "d2a475bc",
   "metadata": {},
   "source": []
  },
  {
   "cell_type": "code",
   "execution_count": null,
   "id": "8c8bc62d",
   "metadata": {},
   "outputs": [],
   "source": []
  }
 ],
 "metadata": {
  "kernelspec": {
   "display_name": "mlev",
   "language": "python",
   "name": "mlev"
  },
  "language_info": {
   "codemirror_mode": {
    "name": "ipython",
    "version": 3
   },
   "file_extension": ".py",
   "mimetype": "text/x-python",
   "name": "python",
   "nbconvert_exporter": "python",
   "pygments_lexer": "ipython3",
   "version": "3.7.11"
  }
 },
 "nbformat": 4,
 "nbformat_minor": 5
}
